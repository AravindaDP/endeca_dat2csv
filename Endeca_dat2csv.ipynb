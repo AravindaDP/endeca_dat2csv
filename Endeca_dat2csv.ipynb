{
 "cells": [
  {
   "cell_type": "markdown",
   "metadata": {},
   "source": [
    "#### Set your input .dat and output csv file paths on below cell.\n",
    "\n",
    "Endeca .dat file should be in following format\n",
    "\n",
    "{field_data}  \n",
    "{field_data}  \n",
    "...  \n",
    "{field_data}  \n",
    "{entry_seperator_line}  \n",
    "{filed_data}  \n",
    "...  \n",
    "...  \n",
    "{entry_seperator_line}  \n",
    "\n",
    "Where each field_data line is a delimitter seperated line (usually '|') and a given field name it's field_data line always have same number of tokens when seperated by delimitter and field name and value always occur at fixed positions."
   ]
  },
  {
   "cell_type": "code",
   "execution_count": 1,
   "metadata": {},
   "outputs": [],
   "source": [
    "input_dat_file = r\"C:\\Temp\\upcs_2018-02-02.05-12-28.dat\"\n",
    "output_csv_file = r\"C:\\Temp\\upcs_2018-02-02.05-12-28.csv\""
   ]
  },
  {
   "cell_type": "markdown",
   "metadata": {},
   "source": [
    "#### Set your filed information and entry_seperator information on below cell.\n",
    "\n",
    "Each field info is a tuple in following format  \n",
    "('field_name',(token_count,'field_name_index','field_value_index'))\n",
    "\n",
    "Entry seperator is simply an array when tokenized.  \n",
    "[token_array]"
   ]
  },
  {
   "cell_type": "code",
   "execution_count": 2,
   "metadata": {},
   "outputs": [],
   "source": [
    "fields = []\n",
    "fields.append(('u_sku_cd',(5,0,2)))\n",
    "fields.append(('u_upc_cd',(5,0,2)))\n",
    "\n",
    "entry_seperator = ['','R','','L','']\n",
    "\n",
    "token_delimiter = '|'\n",
    "\n",
    "print_unmached = True"
   ]
  },
  {
   "cell_type": "code",
   "execution_count": 3,
   "metadata": {},
   "outputs": [],
   "source": [
    "import csv\n",
    "\n",
    "def is_entry_seperator(row,entry_seperator):\n",
    "    if len(row)==len(entry_seperator):\n",
    "        for idx in range(len(entry_seperator)):\n",
    "            if row[idx]!=entry_seperator[idx]:\n",
    "                return False\n",
    "        return True\n",
    "    else:\n",
    "        return False\n",
    "\n",
    "with open(output_csv_file,'w', newline='') as output_file:\n",
    "    csv_writer = csv.writer(output_file, delimiter=token_delimiter,\n",
    "                            quotechar='|', quoting=csv.QUOTE_NONE)\n",
    "    \n",
    "    header = []\n",
    "    entry = {}\n",
    "    for idx in range(len(fields)):\n",
    "        header.append(fields[idx][0])\n",
    "        entry[fields[idx][0]]=''\n",
    "        \n",
    "    csv_writer.writerow(header)\n",
    "    \n",
    "    with open(input_dat_file,'r') as input_file:\n",
    "        endeca_reader = csv.reader(input_file,delimiter=token_delimiter)\n",
    "        for row in endeca_reader:\n",
    "            processed = False\n",
    "            \n",
    "            if is_entry_seperator(row,entry_seperator):\n",
    "                entry_tokens = []\n",
    "                for idx in range(len(fields)):\n",
    "                    entry_tokens.append(entry[fields[idx][0]])\n",
    "                    entry[fields[idx][0]]=''\n",
    "                csv_writer.writerow(entry_tokens)\n",
    "                processed = True\n",
    "            for idx in range(len(fields)):\n",
    "                if(len(row)==fields[idx][1][0]):\n",
    "                    if row[fields[idx][1][1]]==fields[idx][0]:\n",
    "                        entry[fields[idx][0]]=row[fields[idx][1][2]]\n",
    "                        processed = True\n",
    "            \n",
    "            if print_unmached:\n",
    "                if not processed:\n",
    "                    print(row)"
   ]
  },
  {
   "cell_type": "code",
   "execution_count": null,
   "metadata": {},
   "outputs": [],
   "source": []
  }
 ],
 "metadata": {
  "kernelspec": {
   "display_name": "Python 3",
   "language": "python",
   "name": "python3"
  },
  "language_info": {
   "codemirror_mode": {
    "name": "ipython",
    "version": 3
   },
   "file_extension": ".py",
   "mimetype": "text/x-python",
   "name": "python",
   "nbconvert_exporter": "python",
   "pygments_lexer": "ipython3",
   "version": "3.6.3"
  }
 },
 "nbformat": 4,
 "nbformat_minor": 2
}
